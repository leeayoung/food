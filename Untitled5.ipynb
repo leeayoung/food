{
 "cells": [
  {
   "cell_type": "markdown",
   "metadata": {},
   "source": [
    "# Assignmet 4"
   ]
  },
  {
   "cell_type": "markdown",
   "metadata": {},
   "source": [
    "[1번 문제] 파일 s.txt내의 다음 내용과 함께 아래 문제의 코드를 제시하시오.\n",
    "    \n",
    "    pig ham\n",
    "    cat dog\n",
    "    ham bird\n",
    "    dog pig"
   ]
  },
  {
   "cell_type": "markdown",
   "metadata": {},
   "source": [
    "- 1) 파일 s.txt을 읽어서 각 라인에 있는 첫 번째 단어(문자열) 자체들을 기준으로 라인별 정렬 후 파일 s1.txt에 그 결과를 기록하는 코드를 작성하시오. 즉, 프로그램 수행 후 s1.txt에 있는 파일 내용은 다음과 같습니다.\n",
    "\n",
    "        cat dog\n",
    "        dog pig\n",
    "        ham bird\n",
    "        pig ham"
   ]
  },
  {
   "cell_type": "code",
   "execution_count": 1,
   "metadata": {
    "collapsed": false,
    "scrolled": true
   },
   "outputs": [
    {
     "name": "stdout",
     "output_type": "stream",
     "text": [
      "cat dog\n",
      "dog pig\n",
      "ham bird\n",
      "pig ham\n"
     ]
    }
   ],
   "source": [
    "f = open('s.txt')\n",
    "L = f.readlines()  #라인별로 끊어서 리스트에 저장한다.\n",
    "L.sort()  #첫 번째 단어들을 기준으로 오름차순으로 정렬한다. \n",
    "l = []\n",
    "\n",
    "for i in L:\n",
    "    l.append(i.strip('\\n'))  #리스트 r에 문자열 x의 양쪽 공백을 모두 지운 것을 저장한다.\n",
    "    \n",
    "l = \"\\n\".join(l)  #리스트의 각 요소를 하나로 합친 문자열을 반환한다.\n",
    "print l\n",
    "\n",
    "f1 = open('s1.txt', 'w') #문자열을 s1파일에 저장한다. \n",
    "f1.write(l)"
   ]
  },
  {
   "cell_type": "markdown",
   "metadata": {},
   "source": [
    "=> 's.txt'파일을 열어 readlines 함수를 써서 라인별로 끊어서 리스트에 저장하고 sort함수로 첫 번째 단어들을 기준으로 오름차순으로 정렬한다. 리스트 r에 strip을 이용하여 문자열 x의 양쪽 공백을 모두 지운 것을 저장한다."
   ]
  },
  {
   "cell_type": "markdown",
   "metadata": {},
   "source": [
    "- 2) 파일 s.txt을 읽어서 각 라인에 있는 두 번째 단어(문자열) 자체들을 기준으로 라인별 정렬후 파일 s2.txt에 그 결과를 기록하는 코드를 작성하시오. 즉, 프로그램 수행 후 s2.txt에 있는 파일 내용은 다음과 같다.\n",
    "\n",
    "        ham bird\n",
    "        cat dog\n",
    "        pig ham\n",
    "        dog pig"
   ]
  },
  {
   "cell_type": "code",
   "execution_count": 6,
   "metadata": {
    "collapsed": false,
    "scrolled": true
   },
   "outputs": [
    {
     "name": "stdout",
     "output_type": "stream",
     "text": [
      "ham bird\n",
      "cat dog\n",
      "pig ham\n",
      "dog pig\n"
     ]
    }
   ],
   "source": [
    "f = open('s.txt')\n",
    "L = f.readlines()  \n",
    "d = {}\n",
    "\n",
    "for i in L :\n",
    "    t = i.split()\n",
    "    d[t[1]] = t[0]\n",
    "    \n",
    "x = d.keys()\n",
    "x.sort()\n",
    "\n",
    "l = []\n",
    "\n",
    "for j in x:\n",
    "    l.append(d[j] + ' ' + j)\n",
    "    \n",
    "l = \"\\n\".join(l)\n",
    "print l\n",
    "\n",
    "f2 = open('s2.txt', 'w')\n",
    "f2.write(l)"
   ]
  },
  {
   "cell_type": "markdown",
   "metadata": {},
   "source": [
    "=> 's.txt'파일을 열어 readlines 함수를 써서 라인별로 끊어서 리스트에 저장하고 사전 d를 선언한다. 한 라인당 두개의 문자를 split함수로 나누어 첫 번째 문자를 사전의 아이템으로 넣고, 두 번째 문자를 사전의 키로 넣어준다. sort함수로 사전의 키에 넣은 두 번째 문자를 기준으로 오름차순으로 정렬하여 저장한다."
   ]
  },
  {
   "cell_type": "markdown",
   "metadata": {},
   "source": [
    "- 3) 파일 s.txt을 읽어서 각 라인에 있는 모든 단어들을 순차적으로 다시 나열하되 각 라인에 세 개의 단어들이 오도록 하여 s3.txt에 기록하는 코드를 작성하시오. 즉, 프로그램 수행 후 s3.txt에 있는 파일 내용은 다음과 같다.\n",
    "\n",
    "        pig ham cat\n",
    "        dog ham bird\n",
    "        dog pig"
   ]
  },
  {
   "cell_type": "code",
   "execution_count": 8,
   "metadata": {
    "collapsed": false
   },
   "outputs": [
    {
     "name": "stdout",
     "output_type": "stream",
     "text": [
      "pig ham cat \n",
      "dog ham bird \n",
      "dog pig \n"
     ]
    }
   ],
   "source": [
    "f = open('s.txt')\n",
    "s = f.read()\n",
    "s = s.split()\n",
    "l = []\n",
    "i = 0\n",
    "\n",
    "for x in s:\n",
    "    i += 1\n",
    "    l.append(x+' ')\n",
    "    if i % 3 == 0:\n",
    "        l.append('\\n')\n",
    "        \n",
    "l = \"\".join(l)\n",
    "print l\n",
    "\n",
    "f3 = open('s3.txt','w')\n",
    "f3.write(l)"
   ]
  },
  {
   "cell_type": "markdown",
   "metadata": {},
   "source": [
    "=> 's.txt'를 읽어와서 저장되어 있는 문자를 split함수를 이용하여 나누어 리스트에 저장한다. for문을 이용하여 문자 3개가 올때마다 리스트 l에 추가합니다. 리스트에 저장된 값들을 join함수를 이용하여 하나의 문자열로 만듭니다."
   ]
  },
  {
   "cell_type": "markdown",
   "metadata": {},
   "source": [
    "[2번 문제]\n",
    "다음과 같은 조건들을 참고하여 회원 가입 및 로그인 프로그램을 작성하시오."
   ]
  },
  {
   "cell_type": "code",
   "execution_count": 1,
   "metadata": {
    "collapsed": false
   },
   "outputs": [
    {
     "name": "stderr",
     "output_type": "stream",
     "text": [
      "C:\\Users\\ahhyeon\\Anaconda2\\lib\\site-packages\\ipykernel\\__main__.py:1: DeprecationWarning: the sha module is deprecated; use the hashlib module instead\n",
      "  if __name__ == '__main__':\n"
     ]
    },
    {
     "name": "stdout",
     "output_type": "stream",
     "text": [
      "만나서 반갑습니다!\n",
      "1. Sign Up\n",
      "2. Sign In\n",
      "3. Quit\n",
      "Select Menu :1\n",
      "input your ID:g\n",
      "input your password : g\n",
      "input your Name : g\n",
      "input your School : g\n",
      "\n",
      "\n",
      "만나서 반갑습니다!\n",
      "1. Sign Up\n",
      "2. Sign In\n",
      "3. Quit\n",
      "Select Menu :2\n",
      "input your ID:dnflwd\n",
      "죄송합니다, 회원가입되지 않았습니다.\n",
      "input your ID:dnflwlq0056\n",
      "input your password : dkgus12\n",
      "Hello [ jah]\n"
     ]
    }
   ],
   "source": [
    "import sha\n",
    "\n",
    "def menu():\n",
    "    print (\"만나서 반갑습니다!\")\n",
    "    print '1. Sign Up'\n",
    "    print '2. Sign In'\n",
    "    print '3. Quit'\n",
    "    \n",
    "    return input('Select Menu :')\n",
    "\n",
    "def sign_up():\n",
    "    person = [0, 0, 0, 0]\n",
    "    f= open('access.txt')\n",
    "    s = f.read()\n",
    "    s = s.splitlines()\n",
    "    # s = s.readlines() #줄바꿈기호가 포함돼서 저장됨\n",
    "        \n",
    "    person[0] = raw_input('input your ID:')\n",
    "    f = open('access.txt')\n",
    "    line = f.readline()\n",
    "    while line:\n",
    "        if line.split(',')[0] == person[0]:  #입력받은값과 원래 있던 아이디와 같다면\n",
    "            print \"죄송합니다. 이미 ID가 존재합니다.\"\n",
    "            person[0] = raw_input('input your ID:')\n",
    "            f.seek(0) #포인터가 첫번째로 이동함\n",
    "        line = f.readline()\n",
    "    \n",
    "    person[1] = raw_input('input your password : ')\n",
    "    person[1] = sha.new(person[1]).hexdigest()\n",
    "    person[2] = raw_input('input your Name : ')\n",
    "    person[3] = raw_input('input your School : ')\n",
    "    print(\"\\n\")\n",
    "    \n",
    "    f = open('access.txt' , 'a')\n",
    "    f.write(\",\".join(person))\n",
    "    f.write(\"\\n\")\n",
    "    \n",
    "def sign_in():\n",
    "    person = [0, 0, 0, 0]\n",
    "    f= open('access.txt')\n",
    "    s = f.read()\n",
    "    s = s.splitlines()\n",
    "    \n",
    "    person[0] = raw_input('input your ID:')\n",
    "    f = open('access.txt')\n",
    "    line = f.readline()\n",
    "    while line:\n",
    "        if line.split(',')[0] == person[0]:\n",
    "            break\n",
    "        line = f.readline()\n",
    "        \n",
    "        if line == '':\n",
    "            print \"죄송합니다, 회원가입되지 않았습니다.\"\n",
    "            person[0] = raw_input('input your ID:')\n",
    "            f.seek(0) #포인터가 첫번째로 이동함\n",
    "            line = f.readline()\n",
    "            \n",
    "    while 1:\n",
    "        person[1] = raw_input('input your password : ')\n",
    "        person[1] = sha.new(person[1]).hexdigest()\n",
    "        if line.split(',')[1] == person[1]:\n",
    "            print (\"Hello [\"+line.split(',')[2]+\"]\")\n",
    "            break\n",
    "        else :\n",
    "            print \"죄송합니다. 입력하신 비밀번호가 맞지 않습니다.\"\n",
    "    \n",
    "# 메뉴선택 받는 함수 \n",
    "while 1:\n",
    "    sel = menu()\n",
    "    \n",
    "    if sel == 1:\n",
    "        sign_up()\n",
    "    elif sel == 2:\n",
    "        sign_in()\n",
    "        break\n",
    "    elif sel == 3:\n",
    "        break\n",
    "    else :\n",
    "        print (\"Please select correct Number\")\n",
    "        continue"
   ]
  },
  {
   "cell_type": "markdown",
   "metadata": {},
   "source": [
    "[3번 문제]\n",
    "range() 함수와 유사한 frange() 함수를 다음 조건을 참고하여 만드시오."
   ]
  },
  {
   "cell_type": "code",
   "execution_count": 14,
   "metadata": {
    "collapsed": false
   },
   "outputs": [
    {
     "name": "stdout",
     "output_type": "stream",
     "text": [
      "[0.0, 0.1, 0.2, 0.3, 0.4]\n",
      "[1.0, 1.1, 1.2, 1.3, 1.4, 1.5, 1.6, 1.7, 1.8, 1.9]\n",
      "[2.2, 2.7, 3.2, 3.7]\n"
     ]
    }
   ],
   "source": [
    "def frange(stop, start=0.0, step=0.1):\n",
    "    if stop < start :\n",
    "        start, stop = stop, start\n",
    "    L = []\n",
    "    \n",
    "    while start < stop:\n",
    "        L.append(start)\n",
    "        start = round((step + start),len(str(step)) - 2) # float 오차로인해\n",
    "    return L\n",
    "\n",
    "print frange(0.5)\n",
    "print frange(1.0, 2.0)\n",
    "print frange(2.2, 4.0, 0.5)"
   ]
  },
  {
   "cell_type": "markdown",
   "metadata": {},
   "source": [
    "=> frange()가 인자값을 하나만 받았을 경우에 start값에 들어가기 때문에 if문을 활용하여 start값을 stop값에 넣어주고 start값은 다시 0.0으로 바꾸어 주어 0.0부터 인자값까지 출력될 수 있도록 하였다."
   ]
  },
  {
   "cell_type": "markdown",
   "metadata": {},
   "source": [
    "[4번 문제]\n",
    "가변인수를 받는 함수 sum()을 다음과 같은 조건을 참고하여 구현하시오.\n",
    "\n",
    "- sum() 사용 예\n",
    "   - sum()\n",
    "        - 0\n",
    "   - sum(1,2)\n",
    "        - 3\n",
    "   - sum(1,2,3,4,5)\n",
    "        - 15\n",
    "   - sum(1,5,7,2,-10)\n",
    "        - 5\n",
    "  "
   ]
  },
  {
   "cell_type": "code",
   "execution_count": 20,
   "metadata": {
    "collapsed": false
   },
   "outputs": [
    {
     "name": "stdout",
     "output_type": "stream",
     "text": [
      "0\n",
      "3\n",
      "15\n",
      "5\n"
     ]
    }
   ],
   "source": [
    "def sum(*val):\n",
    "    num=0\n",
    "    \n",
    "    for i in range(len(val)):\n",
    "        num += val[i]\n",
    "        \n",
    "    return num\n",
    "\n",
    "print sum()\n",
    "print sum(1, 2)\n",
    "print sum(1, 2, 3, 4, 5)\n",
    "print sum(1, 5, 7, 2, -10)"
   ]
  },
  {
   "cell_type": "markdown",
   "metadata": {},
   "source": [
    "=> 가변인수를 받아 for문을 이용하여 인자 값을 모두 더하여 출력하는 sum 함수를 만든다."
   ]
  },
  {
   "cell_type": "markdown",
   "metadata": {},
   "source": [
    "[5번 문제]\n",
    "여러 단어로 이루어진 문자열을 입력받아 각 단어의 첫글자로 이루어진 단어를 대문자로 출력하는 myinitial() 함수를 다음 조건을 참고하여 작성하시오.\n",
    "\n",
    "- 1) 다음에 제시되는 함수들을 모두 이용해야 한다.\n",
    "   - split\n",
    "   - map\n",
    "   - join\n",
    "   \n",
    "- 2) myinitial() 함수 사용 예\n",
    "   - myinitial(\"as soon as possible\")\n",
    "      - ASAP"
   ]
  },
  {
   "cell_type": "code",
   "execution_count": 23,
   "metadata": {
    "collapsed": false
   },
   "outputs": [
    {
     "name": "stdout",
     "output_type": "stream",
     "text": [
      "ASAP\n"
     ]
    }
   ],
   "source": [
    "def myinitial(string):\n",
    "    string = string.split(\" \")\n",
    "    string = map(lambda x:x[0].upper() ,string)\n",
    "    string = \"\".join(string)\n",
    "    \n",
    "    return string\n",
    "\n",
    "print myinitial(\"as soon as possible\")"
   ]
  },
  {
   "cell_type": "markdown",
   "metadata": {},
   "source": [
    "=> 문자열을 인자로 받는 myinitial함수를 만든다. 인자로 받은 문자열을 띄어쓰기를 기준으로 나누어 string에 저장하고, map함수를 이용하여 리스트에 저장되어 있는 첫 번째 글자를 string에 저장하여 주고 join함수를 이용하여 하나의 문자로 출력한다. "
   ]
  },
  {
   "cell_type": "markdown",
   "metadata": {},
   "source": [
    "[6번 문제]\n",
    "음이 아닌 정수 n를 입력받으면 n! (factorial)을 계산하는 myfact() 함수를 재귀적 함수로 구현하시오.\n",
    "\n",
    "- [옵션] 참을 수 있는 정도 만큼의 수행시간을 직접 기다려보면서 n을 늘려보도록 합시다."
   ]
  },
  {
   "cell_type": "code",
   "execution_count": 27,
   "metadata": {
    "collapsed": false
   },
   "outputs": [
    {
     "name": "stdout",
     "output_type": "stream",
     "text": [
      "1\n",
      "2\n",
      "6\n",
      "24\n",
      "120\n",
      "720\n",
      "5040\n",
      "40320\n",
      "362880\n",
      "3628800\n",
      "39916800\n",
      "479001600\n"
     ]
    }
   ],
   "source": [
    "def myfact(num):\n",
    "    if num<=2:\n",
    "        return num\n",
    "    else:\n",
    "        return num*myfact(num-1)\n",
    "\n",
    "print myfact(1)\n",
    "print myfact(2)\n",
    "print myfact(3)\n",
    "print myfact(4)\n",
    "print myfact(5)\n",
    "print myfact(6)\n",
    "print myfact(7)\n",
    "print myfact(8)\n",
    "print myfact(9)\n",
    "print myfact(10)\n",
    "print myfact(11)\n",
    "print myfact(12)"
   ]
  },
  {
   "cell_type": "markdown",
   "metadata": {},
   "source": [
    "[7번 문제]\n",
    "(서술형) import string 과 from string import * 의 차이점을 설명하시오."
   ]
  },
  {
   "cell_type": "markdown",
   "metadata": {},
   "source": [
    "=> import string은 string 모듈을 불러오며 이름공간 string이 유지되기 때문에 string.xxx()형태로 사용가능하다. from string import*는 string 모듈안의 지정 이름을 불러온다는 뜻으로 '*'는 모두 불러오기 때문에 직접 참조가 가능하다."
   ]
  },
  {
   "cell_type": "markdown",
   "metadata": {},
   "source": [
    "[8번 문제] 프로젝트 오일러 10번 : 10 이하의 소수를 모두 더하면 2 + 3 + 5 + 7 = 17 이 됩니다.\n",
    "\n",
    "이백만(2,000,000) 이하 소수의 합은 얼마입니까?\n"
   ]
  },
  {
   "cell_type": "code",
   "execution_count": 34,
   "metadata": {
    "collapsed": false
   },
   "outputs": [
    {
     "name": "stdout",
     "output_type": "stream",
     "text": [
      "5736396\n"
     ]
    }
   ],
   "source": [
    "def pnumber(i):\n",
    "    s=0\n",
    "    for num in range(2,i+1):\n",
    "        co = 0\n",
    "        for n in range(1,num+1):\n",
    "            if num %n ==0:\n",
    "                co +=1\n",
    "            if co >2:\n",
    "                break\n",
    "        if co ==2:\n",
    "            s=s+num\n",
    "    return s\n",
    "\n",
    "print pnumber(10000)"
   ]
  },
  {
   "cell_type": "markdown",
   "metadata": {},
   "source": [
    "[9번 문제] 프로젝트 오일러 11번 : 20*20 격자에서 수평, 수직, 또는 대각선 방향으로 연속된 숫자 네개의 곱 중 최대값은 얼마인가"
   ]
  },
  {
   "cell_type": "code",
   "execution_count": 28,
   "metadata": {
    "collapsed": false,
    "scrolled": true
   },
   "outputs": [
    {
     "name": "stdout",
     "output_type": "stream",
     "text": [
      "70600674\n"
     ]
    }
   ],
   "source": [
    "s = \"\"\"\n",
    "08 02 22 97 38 15 00 40 00 75 04 05 07 78 52 12 50 77 91 08\n",
    "49 49 99 40 17 81 18 57 60 87 17 40 98 43 69 48 04 56 62 00\n",
    "81 49 31 73 55 79 14 29 93 71 40 67 53 88 30 03 49 13 36 65\n",
    "52 70 95 23 04 60 11 42 69 24 68 56 01 32 56 71 37 02 36 91\n",
    "22 31 16 71 51 67 63 89 41 92 36 54 22 40 40 28 66 33 13 80\n",
    "24 47 32 60 99 03 45 02 44 75 33 53 78 36 84 20 35 17 12 50\n",
    "32 98 81 28 64 23 67 10 26 38 40 67 59 54 70 66 18 38 64 70\n",
    "67 26 20 68 02 62 12 20 95 63 94 39 63 08 40 91 66 49 94 21\n",
    "24 55 58 05 66 73 99 26 97 17 78 78 96 83 14 88 34 89 63 72\n",
    "21 36 23 09 75 00 76 44 20 45 35 14 00 61 33 97 34 31 33 95\n",
    "78 17 53 28 22 75 31 67 15 94 03 80 04 62 16 14 09 53 56 92\n",
    "16 39 05 42 96 35 31 47 55 58 88 24 00 17 54 24 36 29 85 57\n",
    "86 56 00 48 35 71 89 07 05 44 44 37 44 60 21 58 51 54 17 58\n",
    "19 80 81 68 05 94 47 69 28 73 92 13 86 52 17 77 04 89 55 40\n",
    "04 52 08 83 97 35 99 16 07 97 57 32 16 26 26 79 33 27 98 66\n",
    "88 36 68 87 57 62 20 72 03 46 33 67 46 55 12 32 63 93 53 69\n",
    "04 42 16 73 38 25 39 11 24 94 72 18 08 46 29 32 40 62 76 36\n",
    "20 69 36 41 72 30 23 88 34 62 99 69 82 67 59 85 74 04 36 16\n",
    "20 73 35 29 78 31 90 01 74 31 49 71 48 86 81 16 23 57 05 54\n",
    "01 70 54 71 83 51 54 69 16 92 33 48 61 43 52 01 89 19 67 48\n",
    "\"\"\"\n",
    "\n",
    "s = s.replace('\\n', ' ')\n",
    "\n",
    "def maxnum():\n",
    "    numbers = [int(x) for x in s.split()]\n",
    "\n",
    "    from functools import reduce\n",
    "    def pr(x, y):\n",
    "        return reduce(lambda x,y:x*y, [numbers[y*20+x+i] for i in range(4)])\n",
    "\n",
    "    def pd(x, y):\n",
    "        return reduce(lambda x,y:x*y, [numbers[(y+i)*20+x] for i in range(4)])    \n",
    "\n",
    "    def pdr(x, y):\n",
    "        return reduce(lambda x,y:x*y, [numbers[(y+i)*20+x+i] for i in range(4)])    \n",
    "\n",
    "    def pdl(x, y):\n",
    "        return reduce(lambda x,y:x*y, [numbers[(y+i)*20+x-i] for i in range(4)])    \n",
    "\n",
    "    p1 = max([pr(x, y) for x in range(20-3) for y in range(20)])\n",
    "    p2 = max([pd(x, y) for x in range(20) for y in range(20-3)])\n",
    "    p3 = max([pdr(x, y) for x in range(20-3) for y in range(20-3)])\n",
    "    p4 = max([pdl(x, y) for x in range(3, 20) for y in range(20-3)])\n",
    "\n",
    "    print(max(p1, p2, p3, p4))\n",
    "\n",
    "maxnum()"
   ]
  },
  {
   "cell_type": "markdown",
   "metadata": {},
   "source": [
    "[10번 문제]\n",
    "프로젝트 오일러 12번 : 삼각수의 약수 구하기"
   ]
  },
  {
   "cell_type": "code",
   "execution_count": 9,
   "metadata": {
    "collapsed": false
   },
   "outputs": [
    {
     "name": "stdout",
     "output_type": "stream",
     "text": [
      "76576500\n"
     ]
    }
   ],
   "source": [
    "import math\n",
    "n = 1\n",
    "divisor = 0\n",
    "while (divisor*2)<500:\n",
    "    divisor = 0\n",
    "    n+=1\n",
    "    num = (n*(n+1))/2\n",
    "    for i in range(1, int(math.sqrt(num))+1):\n",
    "        if num%i == 0:\n",
    "            divisor+=1\n",
    "#예외처리 해야함\n",
    "print num"
   ]
  },
  {
   "cell_type": "markdown",
   "metadata": {},
   "source": [
    "[11번 문제] 프로젝트 오일러 13번 : 50자리 숫자 100개를 더한 값의 첫 10자리 구하기"
   ]
  },
  {
   "cell_type": "code",
   "execution_count": 31,
   "metadata": {
    "collapsed": false
   },
   "outputs": [
    {
     "name": "stdout",
     "output_type": "stream",
     "text": [
      "5537376230390876637302048746832985971773659831892672\n"
     ]
    }
   ],
   "source": [
    "number = \"\"\"37107287533902102798797998220837590246510135740250\n",
    "46376937677490009712648124896970078050417018260538\n",
    "74324986199524741059474233309513058123726617309629\n",
    "91942213363574161572522430563301811072406154908250\n",
    "23067588207539346171171980310421047513778063246676\n",
    "89261670696623633820136378418383684178734361726757\n",
    "28112879812849979408065481931592621691275889832738\n",
    "44274228917432520321923589422876796487670272189318\n",
    "47451445736001306439091167216856844588711603153276\n",
    "70386486105843025439939619828917593665686757934951\n",
    "62176457141856560629502157223196586755079324193331\n",
    "64906352462741904929101432445813822663347944758178\n",
    "92575867718337217661963751590579239728245598838407\n",
    "58203565325359399008402633568948830189458628227828\n",
    "80181199384826282014278194139940567587151170094390\n",
    "35398664372827112653829987240784473053190104293586\n",
    "86515506006295864861532075273371959191420517255829\n",
    "71693888707715466499115593487603532921714970056938\n",
    "54370070576826684624621495650076471787294438377604\n",
    "53282654108756828443191190634694037855217779295145\n",
    "36123272525000296071075082563815656710885258350721\n",
    "45876576172410976447339110607218265236877223636045\n",
    "17423706905851860660448207621209813287860733969412\n",
    "81142660418086830619328460811191061556940512689692\n",
    "51934325451728388641918047049293215058642563049483\n",
    "62467221648435076201727918039944693004732956340691\n",
    "15732444386908125794514089057706229429197107928209\n",
    "55037687525678773091862540744969844508330393682126\n",
    "18336384825330154686196124348767681297534375946515\n",
    "80386287592878490201521685554828717201219257766954\n",
    "78182833757993103614740356856449095527097864797581\n",
    "16726320100436897842553539920931837441497806860984\n",
    "48403098129077791799088218795327364475675590848030\n",
    "87086987551392711854517078544161852424320693150332\n",
    "59959406895756536782107074926966537676326235447210\n",
    "69793950679652694742597709739166693763042633987085\n",
    "41052684708299085211399427365734116182760315001271\n",
    "65378607361501080857009149939512557028198746004375\n",
    "35829035317434717326932123578154982629742552737307\n",
    "94953759765105305946966067683156574377167401875275\n",
    "88902802571733229619176668713819931811048770190271\n",
    "25267680276078003013678680992525463401061632866526\n",
    "36270218540497705585629946580636237993140746255962\n",
    "24074486908231174977792365466257246923322810917141\n",
    "91430288197103288597806669760892938638285025333403\n",
    "34413065578016127815921815005561868836468420090470\n",
    "23053081172816430487623791969842487255036638784583\n",
    "11487696932154902810424020138335124462181441773470\n",
    "63783299490636259666498587618221225225512486764533\n",
    "67720186971698544312419572409913959008952310058822\n",
    "95548255300263520781532296796249481641953868218774\n",
    "76085327132285723110424803456124867697064507995236\n",
    "37774242535411291684276865538926205024910326572967\n",
    "23701913275725675285653248258265463092207058596522\n",
    "29798860272258331913126375147341994889534765745501\n",
    "18495701454879288984856827726077713721403798879715\n",
    "38298203783031473527721580348144513491373226651381\n",
    "34829543829199918180278916522431027392251122869539\n",
    "40957953066405232632538044100059654939159879593635\n",
    "29746152185502371307642255121183693803580388584903\n",
    "41698116222072977186158236678424689157993532961922\n",
    "62467957194401269043877107275048102390895523597457\n",
    "23189706772547915061505504953922979530901129967519\n",
    "86188088225875314529584099251203829009407770775672\n",
    "11306739708304724483816533873502340845647058077308\n",
    "82959174767140363198008187129011875491310547126581\n",
    "97623331044818386269515456334926366572897563400500\n",
    "42846280183517070527831839425882145521227251250327\n",
    "55121603546981200581762165212827652751691296897789\n",
    "32238195734329339946437501907836945765883352399886\n",
    "75506164965184775180738168837861091527357929701337\n",
    "62177842752192623401942399639168044983993173312731\n",
    "32924185707147349566916674687634660915035914677504\n",
    "99518671430235219628894890102423325116913619626622\n",
    "73267460800591547471830798392868535206946944540724\n",
    "76841822524674417161514036427982273348055556214818\n",
    "97142617910342598647204516893989422179826088076852\n",
    "87783646182799346313767754307809363333018982642090\n",
    "10848802521674670883215120185883543223812876952786\n",
    "71329612474782464538636993009049310363619763878039\n",
    "62184073572399794223406235393808339651327408011116\n",
    "66627891981488087797941876876144230030984490851411\n",
    "60661826293682836764744779239180335110989069790714\n",
    "85786944089552990653640447425576083659976645795096\n",
    "66024396409905389607120198219976047599490197230297\n",
    "64913982680032973156037120041377903785566085089252\n",
    "16730939319872750275468906903707539413042652315011\n",
    "94809377245048795150954100921645863754710598436791\n",
    "78639167021187492431995700641917969777599028300699\n",
    "15368713711936614952811305876380278410754449733078\n",
    "40789923115535562561142322423255033685442488917353\n",
    "44889911501440648020369068063960672322193204149535\n",
    "41503128880339536053299340368006977710650566631954\n",
    "81234880673210146739058568557934581403627822703280\n",
    "82616570773948327592232845941706525094512325230608\n",
    "22918802058777319719839450180888072429661980811197\n",
    "77158542502016545090413245809786882778948721859617\n",
    "72107838435069186155435662884062257473692284509516\n",
    "20849603980134001723930671666823555245252804609722\n",
    "53503534226472524250874054075591789781264330331690\"\"\"\n",
    "\n",
    "number =number.split(\"\\n\")\n",
    "result =0\n",
    "for i in range(0,len(number)):\n",
    "    result+=int(number[i])\n",
    "\n",
    "print result"
   ]
  },
  {
   "cell_type": "markdown",
   "metadata": {},
   "source": [
    "[12번 문제] 프로젝트 오일러 14번 :백만 이하로 시작하는 우박수 중 가장 긴 과정을 거치는 것은?"
   ]
  },
  {
   "cell_type": "code",
   "execution_count": 13,
   "metadata": {
    "collapsed": true
   },
   "outputs": [],
   "source": [
    "def collatz(n):\n",
    "    if n%2 == 0:\n",
    "        n=n/2\n",
    "    else:\n",
    "        n = 3*n+1\n",
    "    return n"
   ]
  },
  {
   "cell_type": "code",
   "execution_count": 14,
   "metadata": {
    "collapsed": false
   },
   "outputs": [
    {
     "name": "stdout",
     "output_type": "stream",
     "text": [
      "837799\n"
     ]
    }
   ],
   "source": [
    "num = 2\n",
    "i = 0\n",
    "temp_i = 0\n",
    "while num <= 1000000:\n",
    "    temp_num = num\n",
    "    while temp_num !=1 :\n",
    "        temp_num = collatz(temp_num)\n",
    "        i += 1\n",
    "    if(temp_i <i):\n",
    "        temp_i = i\n",
    "        temp = num\n",
    "    i=0\n",
    "    num +=1\n",
    "    \n",
    "print temp"
   ]
  },
  {
   "cell_type": "markdown",
   "metadata": {},
   "source": [
    "[13번 문제] 프로젝트 오일러 15번 : 20×20 격자의 좌상단에서 우하단으로 가는 경로의 수 "
   ]
  },
  {
   "cell_type": "code",
   "execution_count": 36,
   "metadata": {
    "collapsed": false
   },
   "outputs": [
    {
     "name": "stdout",
     "output_type": "stream",
     "text": [
      "137846528820\n"
     ]
    }
   ],
   "source": [
    "arr = [[0 for col in range(21)] for row in range(21)]\n",
    "arr[0] =[1]*21\n",
    "for i in range(21):\n",
    "    arr[i][0] = 1\n",
    "\n",
    "for i in range(1,21):\n",
    "    for j in range(1,21):\n",
    "        arr[i][j] = arr[i-1][j] + arr[i][j-1]\n",
    "\n",
    "print arr[20][20]"
   ]
  },
  {
   "cell_type": "markdown",
   "metadata": {},
   "source": [
    "[14번 문제] 이전 Assignment 3의 마지막 문제는 웹 URL로 지정된 웹페이지를 문자열로 가져와 모든 HTML 태그 및 CSS와 Javascript를 제외한 순수 텍스트를 얻어내고 그 안에 존재하는 단어를 추출하여 각 단어들에 대해 출현빈도를 사전형태({'world': 2, 'hello': 1, 'python': 1})로 저장하여 출력하는 것이었다. 이번에는 Assignment 3를 확장하여 다음과 같은 조건을 만족하도록 구현하시오."
   ]
  },
  {
   "cell_type": "code",
   "execution_count": 37,
   "metadata": {
    "collapsed": false
   },
   "outputs": [
    {
     "name": "stdout",
     "output_type": "stream",
     "text": [
      "('Travel', 85)\n",
      "('2016', 69)\n",
      "('Food', 50)\n"
     ]
    }
   ],
   "source": [
    "import urllib2\n",
    "import string\n",
    "import pickle\n",
    "\n",
    "\n",
    "\n",
    "def tag_delete(string):\n",
    "    for i in range(0, string.count('<!--')):\n",
    "        if string.find(\"<!--\") != -1:\n",
    "            string = string.replace(string[string.find(\"<!--\"):string.find(\"-->\")+3:],\" \")\n",
    "    for i in range(0,string.count(\"<\")):\n",
    "        if string.find(\"<\") != -1:\n",
    "            string = string.replace(string[string.find(\"<\"):string.find(\">\")+1:],\" \")\n",
    "    \n",
    "    return string\n",
    "\n",
    "#자바스크립트 제거\n",
    "def javascript_delete(string):\n",
    "    for i in range(0, string.count('<script')):\n",
    "        if string.find(\"<script\") != -1:\n",
    "            string = string.replace(string[string.find(\"<script\"):string.find(\"</script>\")+9:],\" \")\n",
    "    return string\n",
    "\n",
    "#css 제거\n",
    "def stylesheet_delete(string):\n",
    "    for i in range(0, string.count('<style')):\n",
    "        if string.find(\"<style\") != -1:\n",
    "            string = string.replace(string[string.find(\"<style\"):string.find(\"</style>\")+8:],\" \")\n",
    "    return string\n",
    "\n",
    "#구두문자 제거 함수\n",
    "def punc_delete(source):\n",
    "    punctuation = string.punctuation\n",
    "    for i in range (len(punctuation)):\n",
    "        source= source.replace(punctuation[i],\" \")\n",
    "        \n",
    "    return source\n",
    "\n",
    "#불용어 제거 함수\n",
    "def stopword_delete(words):\n",
    "    stopword = [ 'A','a', 'and', 'are', 'as', 'at', 'be', 'but','But', 'by', 'for', 'if','If', 'in', 'into', 'is', 'it','It', 'no','No', 'not','Not', 'of', 'on', 'or', 's', 'such', 't', 'that','That', 'the','The', 'their','Their', 'then','Then', 'there','There', 'these','These', 'they','They', 'this','This', 'to', 'was', 'will', 'with']\n",
    "    for i in range (len(stopword)):\n",
    "        for j in range(len(words)):\n",
    "            if words[j] == stopword[i]:\n",
    "                words[j] = \" \"\n",
    "\n",
    "\n",
    "#사전형태로 출현빈도 저장 함수\n",
    "def word_count(words):\n",
    "    words_dict = {}\n",
    "    for i in words:\n",
    "        if words_dict.has_key(i) is False:\n",
    "            words_dict[i]=1\n",
    "        else:\n",
    "            words_dict[i]+=1\n",
    "    return words_dict\n",
    "\n",
    "f = open('www.cnn.com.html','w')\n",
    "f.write(urllib2.urlopen(\"http://www.cnn.com\").read()) # 문자열을 파일에 기록\n",
    "f.close()\n",
    "\n",
    "f = file('www.cnn.com.html') # f = open('t.txt', 'r')과 동일\n",
    "source = f.read()\n",
    "f.close()\n",
    "\n",
    "source = stylesheet_delete(source)\n",
    "source = javascript_delete(source)\n",
    "source = tag_delete(source)\n",
    "source = punc_delete(source)\n",
    "words = source.split()  \n",
    "stopword_delete(words)\n",
    "source = \" \".join(words)\n",
    "words = source.split()\n",
    "words = word_count(words)\n",
    "\n",
    "f = open('www.cnn.com.words.frequency.txt', 'w')\n",
    "pickle.dump(words, f)\n",
    "f.close()\n",
    "\n",
    "f = open('www.about.com.html','w')\n",
    "f.write(urllib2.urlopen(\"http://www.about.com\").read()) # 문자열을 파일에 기록\n",
    "f.close()\n",
    "\n",
    "f = file('www.about.com.html') # f = open('t.txt', 'r')과 동일\n",
    "source = f.read()\n",
    "f.close()\n",
    "\n",
    "source = stylesheet_delete(source)\n",
    "source = javascript_delete(source)\n",
    "source = tag_delete(source)\n",
    "source = punc_delete(source)\n",
    "words = source.split()  \n",
    "stopword_delete(words)\n",
    "source = \" \".join(words)\n",
    "words = source.split()\n",
    "words = word_count(words)\n",
    "\n",
    "f = open('www.about.com.words.frequency.txt', 'w')\n",
    "pickle.dump(words, f)\n",
    "f.close()\n",
    "\n",
    "f = open('www.time.com.html','w')\n",
    "f.write(urllib2.urlopen(\"http://www.time.com\").read()) # 문자열을 파일에 기록\n",
    "f.close()\n",
    "\n",
    "f = file('www.time.com.html') # f = open('t.txt', 'r')과 동일\n",
    "source = f.read()\n",
    "f.close()\n",
    "\n",
    "source = stylesheet_delete(source)\n",
    "source = javascript_delete(source)\n",
    "source = tag_delete(source)\n",
    "source = punc_delete(source)\n",
    "words = source.split()  \n",
    "stopword_delete(words)\n",
    "source = \" \".join(words)\n",
    "words = source.split()\n",
    "words = word_count(words)\n",
    "\n",
    "f = open('www.time.com.words.frequency.txt', 'w')\n",
    "pickle.dump(words, f)\n",
    "f.close()\n",
    "\n",
    "f = open('www.sciencemag.org.html','w')\n",
    "f.write(urllib2.urlopen(\"http://www.sciencemag.org\").read()) # 문자열을 파일에 기록\n",
    "f.close()\n",
    "\n",
    "f = file('www.sciencemag.org.html') # f = open('t.txt', 'r')과 동일\n",
    "source = f.read()\n",
    "f.close()\n",
    "\n",
    "source = stylesheet_delete(source)\n",
    "source = javascript_delete(source)\n",
    "source = tag_delete(source)\n",
    "source = punc_delete(source)\n",
    "words = source.split()  \n",
    "stopword_delete(words)\n",
    "source = \" \".join(words)\n",
    "words = source.split()\n",
    "words = word_count(words)\n",
    "\n",
    "f = open('www.sciencemag.org.words.frequency.txt', 'w')\n",
    "pickle.dump(words, f)\n",
    "f.close()\n",
    "\n",
    "f = open('www.bbc.co.uk.html','w')\n",
    "f.write(urllib2.urlopen(\"http://www.bbc.co.uk\").read()) # 문자열을 파일에 기록\n",
    "f.close()\n",
    "\n",
    "f = file('www.bbc.co.uk.html') # f = open('t.txt', 'r')과 동일\n",
    "source = f.read()\n",
    "f.close()\n",
    "\n",
    "source = stylesheet_delete(source)\n",
    "source = javascript_delete(source)\n",
    "source = tag_delete(source)\n",
    "source = punc_delete(source)\n",
    "words = source.split()  \n",
    "stopword_delete(words)\n",
    "source = \" \".join(words)\n",
    "words = source.split()\n",
    "words = word_count(words)\n",
    "\n",
    "f = open('www.bbc.co.uk.words.frequency.txt', 'w')\n",
    "pickle.dump(words, f)\n",
    "f.close()\n",
    "\n",
    "f = open('www.bbc.co.uk.words.frequency.txt')\n",
    "bbc = pickle.load(f)\n",
    "f.close()\n",
    "\n",
    "f = open('www.sciencemag.org.words.frequency.txt')\n",
    "sciencemag = pickle.load(f) # 인스턴스 가져오기\n",
    "f.close()\n",
    "\n",
    "f = open('www.time.com.words.frequency.txt')\n",
    "time = pickle.load(f) # 인스턴스 가져오기\n",
    "f.close()\n",
    "\n",
    "f = open('www.about.com.words.frequency.txt')\n",
    "about = pickle.load(f) # 인스턴스 가져오기\n",
    "f.close()\n",
    "\n",
    "f = open('www.cnn.com.words.frequency.txt')\n",
    "cnn = pickle.load(f) # 인스턴스 가져오기\n",
    "f.close()\n",
    "\n",
    "combine ={}\n",
    "for i in bbc:\n",
    "    combine[i] = bbc[i]\n",
    "    \n",
    "for i in sciencemag:\n",
    "    if combine.has_key(i):\n",
    "        combine[i] += sciencemag[i]\n",
    "    else:\n",
    "        combine[i] = sciencemag[i]\n",
    "\n",
    "for i in time:\n",
    "    if combine.has_key(i):\n",
    "        combine[i] += time[i]\n",
    "    else:\n",
    "        combine[i] = time[i]\n",
    "\n",
    "for i in about:\n",
    "    if combine.has_key(i):\n",
    "        combine[i] += about[i]\n",
    "    else:\n",
    "        combine[i] = about[i]\n",
    "        \n",
    "for i in cnn:\n",
    "    if combine.has_key(i):\n",
    "        combine[i] += cnn[i]\n",
    "    else:\n",
    "        combine[i] = cnn[i]\n",
    "        \n",
    "g = combine.items()\n",
    "g.sort(key=lambda x:x[1],reverse=True)\n",
    "for i in range(3):\n",
    "    print g[i]"
   ]
  },
  {
   "cell_type": "markdown",
   "metadata": {},
   "source": [
    "# 고찰 "
   ]
  },
  {
   "cell_type": "markdown",
   "metadata": {},
   "source": [
    "이번 프로젝트 오일러 문제보다는 파일 입출력에 관한 문제들이 많이 어려웠다. 스스로 해결하고 싶었지만 잘 되지 않는 문제들은 조교님과 선배님들께 자문을 구해 구현할 수 있었다. 파일 입출력에 대해 더욱 많은 공부가 필요하다고 느꼈다. 온라인 강의를 다시 한 번 보고 제대로 익혀야겠다고 생각했다. "
   ]
  },
  {
   "cell_type": "code",
   "execution_count": null,
   "metadata": {
    "collapsed": true
   },
   "outputs": [],
   "source": []
  }
 ],
 "metadata": {
  "anaconda-cloud": {},
  "kernelspec": {
   "display_name": "Python [default]",
   "language": "python",
   "name": "python2"
  },
  "language_info": {
   "codemirror_mode": {
    "name": "ipython",
    "version": 2
   },
   "file_extension": ".py",
   "mimetype": "text/x-python",
   "name": "python",
   "nbconvert_exporter": "python",
   "pygments_lexer": "ipython2",
   "version": "2.7.12"
  }
 },
 "nbformat": 4,
 "nbformat_minor": 1
}
