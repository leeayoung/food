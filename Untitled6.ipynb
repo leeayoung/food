{
 "cells": [
  {
   "cell_type": "markdown",
   "metadata": {},
   "source": [
    "# Assignment 5"
   ]
  },
  {
   "cell_type": "markdown",
   "metadata": {},
   "source": [
    "2014136120 조아현"
   ]
  },
  {
   "cell_type": "markdown",
   "metadata": {},
   "source": [
    "[1번 문제] 클래스와 모듈의 공통점과 차이점에 대해 설명하시오."
   ]
  },
  {
   "cell_type": "markdown",
   "metadata": {},
   "source": [
    "=> 클래스와 모듈은 새로운 이름 공간을 지원하는 단위이다. 하지만 클래스는 클래스 영역 내에 이름 공간을 구성하고, 모듈은 파일 단위로 이름 공간을 구성한다."
   ]
  },
  {
   "cell_type": "markdown",
   "metadata": {},
   "source": [
    "[2번 문제] 다형성에 대해 설명하고 다형성을 보여주는 자신만의 파이썬 코드 예제를 제시하시오."
   ]
  },
  {
   "cell_type": "markdown",
   "metadata": {},
   "source": [
    "=> 다형성은 상속 관계 내의 다른 클래스들의 인스턴스들이 같은 멤버 함수 호출에 대해 각각 다르게 반응하도록 하는 기능으로 적은 코딩으로 다양한 객체들에게 유사한 작업을 수행시킬 수 있고, 프로그램 작성 코드량이 줄어들며 코드의 가독성을 높혀준다. \n",
    "\n",
    "[예제]"
   ]
  },
  {
   "cell_type": "code",
   "execution_count": 4,
   "metadata": {
    "collapsed": false
   },
   "outputs": [
    {
     "name": "stdout",
     "output_type": "stream",
     "text": [
      "22살\n",
      "...\n"
     ]
    }
   ],
   "source": [
    "class People:\n",
    "    def age(self):\n",
    "        print '...'\n",
    "        \n",
    "class Ahhyeon(People):\n",
    "    def age(self):\n",
    "        print '22살'\n",
    "        \n",
    "class Ghost(People):\n",
    "    pass\n",
    "\n",
    "for each in (Ahhyeon(), Ghost()):\n",
    "    each.age()"
   ]
  },
  {
   "cell_type": "markdown",
   "metadata": {},
   "source": [
    "[3번 문제] 다음 각 요구사항 모두를 만족시키는 counter 클래스를 코딩하시오.(정답을 각 요구사항별로 입력할 필요 없이 3번 문제에 대해 1개의 클래스 정의 코드를 제시하면 된다.\n",
    "- 요구사항 1. 생성자에 count 값과 step 값을 인자로 받을 수 있다.\n",
    "    - count : Counter 인스턴스가 지니는 초기 정수 값\n",
    "    - step : Counter 인스턴스의 count가 증가되는 증분(defalt 값 : 1)\n",
    "- 요구사항 2. 다음과 같으 Counter의 인스턴스를 출력을 해주는 __str__() 메소드를 Counter 클래스 내에 구현하시오\n",
    "- 요구사항 3. 다음과 같이 step에 주어진 증분만큼 count를 증가시키는 incr() 메소드를 Counter 클래스 내에 구현하시오.\n",
    "- 요구사항 4. Counter 클래스 내에 관련 메소드를 추가하여 인스턴스 객체를 직접 호출(call)할 수 있도록 하시오. 인스턴스 객체를 직접 호출했을 때에 내부적으로 incr() 메소드를 호출하는 방법으로 구현하시오.\n",
    "- 요구사항 5. 다음과 같은 두 개의 산술 연산 (+, -)이 수행될 수 있도록 Counter 클래스 내에 관련 메소드를 추가하시오.\n",
    "- 요구사항 6. 다음과 같은 관계연산 (>, <, ==)이 수행될 수 있도록 Counter 클래스 내에 관련 메소드를 추가하시오."
   ]
  },
  {
   "cell_type": "code",
   "execution_count": 18,
   "metadata": {
    "collapsed": false,
    "scrolled": true
   },
   "outputs": [
    {
     "name": "stdout",
     "output_type": "stream",
     "text": [
      "[Count(step: 1)] 10\n",
      "[Count(step: 2)] 10\n",
      "[Count(step: 1)] 11\n",
      "[Count(step: 2)] 12\n",
      "[Count(step: 1)] 12\n",
      "[Count(step: 2)] 14\n",
      "[Count(step: 1)] 17\n",
      "[Count(step: 2)] 9\n",
      "\n",
      "True\n",
      "False\n",
      "False\n",
      "True\n",
      "False\n",
      "False\n"
     ]
    }
   ],
   "source": [
    "class Counter:\n",
    "    #생성자 메소드 \n",
    "    def __init__(self, count, step=1):\n",
    "        self.count = count #인스턴스가 지니는 초기 정수 값\n",
    "        self.step = step   #인스턴스의 count가 증가되는 증분\n",
    "    #인스턴스를 출력해줌\n",
    "    def __str__(self):\n",
    "        return '[Count(step: %s)] %s' % (self.step, self.count)        \n",
    "    #주어진 증분만큼 count 증가\n",
    "    def incr(self):\n",
    "         self.count += self.step\n",
    "    #인스턴스 객체를 직접 호출(내부적으로incr()메소드를 호출)\n",
    "    def __call__(self):\n",
    "        return self.incr()\n",
    "    def __add__(self, other): #더하기 산술 연산\n",
    "        return Counter(self.count + other)\n",
    "    def __sub__(self, other):  #빼기 산술 연산\n",
    "        return Counter(self.count - other, 2)\n",
    "    def __cmp__(self, other):  #함수와 비교\n",
    "        return self.count - other\n",
    "\n",
    "#요구사항 1\n",
    "c = Counter(10)\n",
    "d = Counter(10,2)\n",
    "#요구사항 2\n",
    "print c\n",
    "print d\n",
    "#요구사항 3\n",
    "c.incr()\n",
    "d.incr()\n",
    "print c\n",
    "print d\n",
    "#요구사항 4\n",
    "c()\n",
    "d()\n",
    "print c\n",
    "print d\n",
    "#요구사항 5\n",
    "c = c + 5\n",
    "d = d - 5\n",
    "print c\n",
    "print d\n",
    "#요구사항 6\n",
    "print \n",
    "print c > 10\n",
    "print d > 10\n",
    "print c < 10\n",
    "print d < 10\n",
    "print c == 10\n",
    "print d != 9"
   ]
  },
  {
   "cell_type": "markdown",
   "metadata": {},
   "source": [
    "[4번 문제] 다음은 내장 자료형 list를 서브클래싱하여 만든 MySet 클래스 정의 내용이다. 다음 클래스 정의에서 __init__(), __str()__(), elimicate_duplicate()의 세 개의 메소드 코드 내용을 자신이 다른 사람에게 가르친다고 생각하며 설명해보시오.\n",
    "- Myset은 집합(Set) 자료형을 정의하려는 의도하에 만들어진 클래스이다."
   ]
  },
  {
   "cell_type": "code",
   "execution_count": 19,
   "metadata": {
    "collapsed": false
   },
   "outputs": [
    {
     "name": "stdout",
     "output_type": "stream",
     "text": [
      "MySet: {1 ,2 ,3}\n",
      "MySet: {2 ,3 ,4 ,5 ,6 ,7 ,8 ,9}\n"
     ]
    }
   ],
   "source": [
    "class MySet(list):\n",
    "    def __init__(self, l):\n",
    "        for e in l:\n",
    "            self.append(e)\n",
    "        MySet.eliminate_duplicate(self)\n",
    "    \n",
    "    def __str__(self):\n",
    "        result = \"MySet: {\"\n",
    "        for e in self:\n",
    "            result = result + str(e) + \" ,\"\n",
    "        result = result[0:len(result)-2] + \"}\"\n",
    "        return result\n",
    "\n",
    "    @staticmethod    \n",
    "    def eliminate_duplicate(l):\n",
    "        s = []\n",
    "        for e in l:\n",
    "            if e not in s:\n",
    "                s.append(e)\n",
    "        l[:] = []\n",
    "        for e in s:\n",
    "            l.append(e)\n",
    "\n",
    "    \n",
    "if __name__ == \"__main__\":\n",
    "    s = MySet([1, 2, 2, 3])\n",
    "    print s\n",
    "    t = MySet([2, 3, 4, 5, 6, 7, 8, 8, 8, 8, 8, 9])\n",
    "    print t"
   ]
  },
  {
   "cell_type": "markdown",
   "metadata": {},
   "source": [
    "=> __init__() 메소드 : for문을 이용하여 객체에 인자로 받은 리스트의 모든 원소를 추가하여 주고 eliminate_duplicate()함수가 리스트를 호출하도록 하는 생성자 메소드이다.\n",
    "\n",
    "=> __str__() 메소드 : 중괄호 안에 리스트의 원소들을 하나하나 추가하여 주고 띄어쓰기와 ,를 없앤 후 저장하여 result값을 리턴하여주는 것이다.\n",
    "\n",
    "=> eliminate_duplicate() 메소드 : 공리스트 s에 중복되지 않는 원소들을 검사하여 하나씩 저장한다. "
   ]
  },
  {
   "cell_type": "markdown",
   "metadata": {},
   "source": [
    "[5번 문제] 4번 문제에 정의된 MySet 클래스에 메소드를 추가하여 다음 각 요구사항 모두를 만족시키는 코딩을 제시하시오.\n",
    "- 정답을 각 요구사항별로 입력할 필요 없이 요구사항 3개 전체에 대해 1개의 MySet 클래스 정의 코드를 제시하고 주석등으로 해당 코드를 설명한다.\n",
    "- 요구사항 1. | 연산으로 두 집합의 합집합을 반환한다.\n",
    "- 요구사항 2. & 연산으로 두 집합의 교집합을 반환한다.\n",
    "- 요구사항 3. - 연산으로 두 집합의 차집합을 반환한다."
   ]
  },
  {
   "cell_type": "code",
   "execution_count": 35,
   "metadata": {
    "collapsed": false
   },
   "outputs": [
    {
     "name": "stdout",
     "output_type": "stream",
     "text": [
      "< 요구사항 1번 >\n",
      "MySet: {1 ,2 ,3 ,4 ,5 ,6 ,7 ,8 ,9}\n",
      "< 요구사항 2번 >\n",
      "MySet: {2 ,3}\n",
      "< 요구사항 3번 >\n",
      "MySet: {1 ,2}\n"
     ]
    }
   ],
   "source": [
    "class MySet(list):\n",
    "    def __init__(self, l):\n",
    "        for e in l:\n",
    "            self.append(e)\n",
    "        MySet.eliminate_duplicate(self)\n",
    "    \n",
    "    def __str__(self):\n",
    "        result = \"MySet: {\"\n",
    "        for e in self:\n",
    "            result = result + str(e) + \" ,\"\n",
    "        result = result[0:len(result)-2] + \"}\"\n",
    "        return result\n",
    "\n",
    "    @staticmethod    \n",
    "    def eliminate_duplicate(l):\n",
    "        s = []\n",
    "        for e in l:\n",
    "            if e not in s:\n",
    "                s.append(e)\n",
    "        l[:] = []\n",
    "        for e in s:\n",
    "            l.append(e)\n",
    "            \n",
    "    # 합집합(sum of sets) : 집합들의 원소를 중복된 것을 뺀 모두 합한 집합\n",
    "    def sos(self, x):  \n",
    "        for i in x:             # 인자로 받은 모든 원소들을 \n",
    "            if i not in self:   # 원소가 없다면 (원소가 중복되지 않는다면)\n",
    "                self.append(i)  # 자신의 리스트에 추가한다.\n",
    "        return MySet(self)\n",
    "   \n",
    "    # 교집합(intersection) : 2개 이상의 집합에 동시에 속하는 원소 전체로된 집합\n",
    "    def inter(self, y): \n",
    "        l = []               # 공리스트 선언\n",
    "        for i in self:       # 자신의 리스트 원소와 같은 값이\n",
    "            if i in y:       # 다른 인스턴스의 리스트에 있다면\n",
    "                l.append(i)  # 공리스트 l에 추가한다.\n",
    "        return MySet(l)\n",
    "   \n",
    "    #차집합(difference of sets) : 한 집합에는 속하나 다른 집합에 속하지 않는 원소 전체로 된 집합\n",
    "    def dos(self, z): \n",
    "        l = []                # 공리스트 선언\n",
    "        for i in self:        # 자신의 리스트 원소와 같은 값이\n",
    "            if i not in z:    # 다른 인스턴스의 리스트에 없다면\n",
    "                l.append(i)   # 공리스트 l에 추가한다.\n",
    "        return MySet(l)\n",
    "    \n",
    "    def __or__(self, a):       # '|'연산자\n",
    "        return self.sos(a)     # 인자를 받아 sos함수를 이용하여 합집합으로 사용해준다.\n",
    "    \n",
    "    def __and__(self, b):      #‘&'연산자 \n",
    "        return self.inter(b)   # 인자를 받아 inter함수를 이용하여 교집합으로 사용해준다.\n",
    "    \n",
    "    def __sub__(self, c):      #‘-'연산자 \n",
    "        return self.dos(c)     # 인자를 받아 dos함수를 이용하여 차집합으로 사용해준다.\n",
    "\n",
    "    \n",
    "if __name__ == \"__main__\":\n",
    "    s = MySet([1, 2, 2, 3])\n",
    "#    print s\n",
    "    t = MySet([2, 3, 4, 5, 6, 7, 8, 8, 8, 8, 8, 9])\n",
    "#    print t\n",
    "\n",
    "#요구사항 1번(두 집합의 합집합)   \n",
    "u = s | t\n",
    "print \"< 요구사항 1번 >\"\n",
    "print u \n",
    "\n",
    "#요구사항 2번(두 집합의 교집합)\n",
    "s = MySet([1, 2, 2, 3])  \n",
    "t = MySet([2, 3, 4, 5, 6, 7, 8, 8, 8, 8, 8, 9])\n",
    "u = s & t\n",
    "print \"< 요구사항 2번 >\"\n",
    "print u\n",
    "\n",
    "#요구사항 3번(두 집합의 차집합)\n",
    "s = MySet([1, 2, 3]) \n",
    "t = MySet([3, 4, 5]) \n",
    "u = s - t \n",
    "print \"< 요구사항 3번 >\"\n",
    "print u "
   ]
  },
  {
   "cell_type": "markdown",
   "metadata": {},
   "source": [
    "[6번 문제] 5번 문제에서 정의한 MySet 클래스에 대해 다음 예제를 수행하면 오류없이 올바르게 동작하는 것을 확인할 수 있다. 다음 예제 내에 있는 len(), bool() 내장함수와 in 키워드 사용 예제가 별다른 메소드 정의를 하지 않았는 데도 올바르게 수행되는 이유를 설명하시오.\n",
    "    >>> s = MySet([1, 2, 3, 4, 5, 6])\n",
    "    >>> print len(s)\n",
    "    > 6\n",
    "    >>> print bool(s)\n",
    "    > True\n",
    "    >>> print 2 in s\n",
    "    > True "
   ]
  },
  {
   "cell_type": "code",
   "execution_count": 39,
   "metadata": {
    "collapsed": false
   },
   "outputs": [
    {
     "name": "stdout",
     "output_type": "stream",
     "text": [
      "6\n",
      "True\n",
      "True\n"
     ]
    }
   ],
   "source": [
    "class MySet(list):\n",
    "    def __init__(self, l):\n",
    "        for e in l:\n",
    "            self.append(e)\n",
    "        MySet.eliminate_duplicate(self)\n",
    "    \n",
    "    def __str__(self):\n",
    "        result = \"MySet: {\"\n",
    "        for e in self:\n",
    "            result = result + str(e) + \" ,\"\n",
    "        result = result[0:len(result)-2] + \"}\"\n",
    "        return result\n",
    "\n",
    "    @staticmethod    \n",
    "    def eliminate_duplicate(l):\n",
    "        s = []\n",
    "        for e in l:\n",
    "            if e not in s:\n",
    "                s.append(e)\n",
    "        l[:] = []\n",
    "        for e in s:\n",
    "            l.append(e)\n",
    "            \n",
    "    # 합집합(sum of sets) : 집합들의 원소를 중복된 것을 뺀 모두 합한 집합\n",
    "    def sos(self, x):  \n",
    "        for i in x:             # 인자로 받은 모든 원소들을 \n",
    "            if i not in self:   # 원소가 없다면 (원소가 중복되지 않는다면)\n",
    "                self.append(i)  # 자신의 리스트에 추가한다.\n",
    "        return MySet(self)\n",
    "   \n",
    "    # 교집합(intersection) : 2개 이상의 집합에 동시에 속하는 원소 전체로된 집합\n",
    "    def inter(self, y): \n",
    "        l = []               # 공리스트 선언\n",
    "        for i in self:       # 자신의 리스트 원소와 같은 값이\n",
    "            if i in y:       # 다른 인스턴스의 리스트에 있다면\n",
    "                l.append(i)  # 공리스트 l에 추가한다.\n",
    "        return MySet(l)\n",
    "   \n",
    "    #차집합(difference of sets) : 한 집합에는 속하나 다른 집합에 속하지 않는 원소 전체로 된 집합\n",
    "    def dos(self, z): \n",
    "        l = []                # 공리스트 선언\n",
    "        for i in self:        # 자신의 리스트 원소와 같은 값이\n",
    "            if i not in z:    # 다른 인스턴스의 리스트에 없다면\n",
    "                l.append(i)   # 공리스트 l에 추가한다.\n",
    "        return MySet(l)\n",
    "    \n",
    "    def __or__(self, a):       # '|'연산자\n",
    "        return self.sos(a)     # 인자를 받아 sos함수를 이용하여 합집합으로 사용해준다.\n",
    "    \n",
    "    def __and__(self, b):      #‘&'연산자 \n",
    "        return self.inter(b)   # 인자를 받아 inter함수를 이용하여 교집합으로 사용해준다.\n",
    "    \n",
    "    def __sub__(self, c):      #‘-'연산자 \n",
    "        return self.dos(c)     # 인자를 받아 dos함수를 이용하여 차집합으로 사용해준다.\n",
    " \n",
    "if __name__ == \"__main__\":\n",
    "    s = MySet([1, 2, 2, 3])\n",
    "#   print s\n",
    "    t = MySet([2, 3, 4, 5, 6, 7, 8, 8, 8, 8, 8, 9])\n",
    "#   print t\n",
    "    \n",
    "s = MySet([1, 2, 3, 4, 5, 6])  \n",
    "print len(s)\n",
    "print bool(s)\n",
    "print 2 in s"
   ]
  },
  {
   "cell_type": "markdown",
   "metadata": {},
   "source": [
    "=> 별다른 메소드 정의를 하지 않아도 len(), bool()내장함수와 in 키워드가 올바르게 수행되는 이유는 len() 내장함수와 bool() 내장함수는 이미 저장되어 있고 in 키워드는 리스트 자료형에 정의된 메소드 이기 때문이다."
   ]
  },
  {
   "cell_type": "markdown",
   "metadata": {},
   "source": [
    "[7번 문제] 프로젝트 오일러 문제 16\n",
    "\n",
    "2^15 = 32768 의 각 자리수를 더하면 3 + 2 + 7 + 6 + 8 = 26 입니다.\n",
    "\n",
    "2^1000의 각 자리수를 모두 더하면 얼마입니까?"
   ]
  },
  {
   "cell_type": "code",
   "execution_count": 53,
   "metadata": {
    "collapsed": false
   },
   "outputs": [
    {
     "name": "stdout",
     "output_type": "stream",
     "text": [
      "2의 1000승의 값은 < 10715086071862673209484250490600018105614048117055336074437503883703510511249361224931983788156958581275946729175531468251871452856923140435984577574698574803934567774824230985421074605062371141877954182153046474983581941267398767559165543946077062914571196477686542167660429831652624386837205668069376 > 이다\n",
      "\n",
      "각 자리수를 다 더한 값은 \n",
      "1366\n",
      "이다.\n"
     ]
    }
   ],
   "source": [
    "import math       # pow 함수를 쓰기 위한 math 모듈\n",
    "\n",
    "a = pow(2, 1000)  # pow(a,b)함수 : 밑이 a이고, 지수가 b인 거듭제곱함수\n",
    "a = str(a)        # 2의 1000승의 값을 문자열로 변환시킨다.\n",
    "print \"2의 1000승의 값은 < \" + a +\" > 이다\"\n",
    "\n",
    "x = 0\n",
    "for i in a:         # 문자열로 변환시킨 2의 1000승의 각 자리 수가 끝날 때까지\n",
    "    x = x + int(i)  # 모두 더한다.\n",
    "    \n",
    "print\n",
    "print \"각 자리수를 다 더한 값은 \"    \n",
    "print x\n",
    "print \"이다.\""
   ]
  },
  {
   "cell_type": "markdown",
   "metadata": {},
   "source": [
    "[8번 문제] 프로젝트 오일러 문제 17\n",
    "\n",
    "1부터 5까지의 숫자를 영어로 쓰면 one, two, three, four, five 이고,\n",
    "각 단어의 길이를 더하면 3 + 3 + 5 + 4 + 4 = 19 이므로 사용된 글자는 모두 19개입니다.\n",
    "\n",
    "1부터 1,000까지 영어로 썼을 때는 모두 몇 개의 글자를 사용해야 할까요?\n",
    "\n",
    "참고: 빈 칸이나 하이픈('-')은 셈에서 제외하며, 단어 사이의 and 는 셈에 넣습니다.\n",
    "  예를 들어 342를 영어로 쓰면 three hundred and forty-two 가 되어서 23 글자,\n",
    "  115 = one hundred and fifteen 의 경우에는 20 글자가 됩니다."
   ]
  },
  {
   "cell_type": "code",
   "execution_count": 40,
   "metadata": {
    "collapsed": false
   },
   "outputs": [
    {
     "name": "stdout",
     "output_type": "stream",
     "text": [
      "21124\n"
     ]
    }
   ],
   "source": [
    "units = [ '', 'one', 'two', 'three', 'four', 'five', 'six', 'seven', 'eight', 'nine' ]\n",
    "tens  = [ 'teen', 'twenty', 'thirty', 'forty', 'fifty', 'sixty', 'seventy', 'eighty', 'ninety', 'hundred' ]\n",
    "hundreds = [ 'ten','eleven','twelve','thir' + tens[0], units[4] + tens[0], 'fif' + tens[0], units[6] + tens[0], units[7] + tens[0], 'eigh' + tens[0], units[9] + tens[0] ]\n",
    "\n",
    "L = []\n",
    "world = 0\n",
    "\n",
    "for i in range(1,10) :\n",
    "    L.append(units[i])\n",
    "    world += len(units[i])\n",
    "for i in range(10) :\n",
    "    L.append(hundreds[i])\n",
    "    world += len(hundreds[i])\n",
    "for i in range(1,9) :\n",
    "    for j in range(10) :\n",
    "        L.append(tens[i] + units[j])\n",
    "        world += len(tens[i] + units[j])\n",
    "        \n",
    "for j in range(1,10) :\n",
    "    world += len(units[j] + '' + 'hundred')             \n",
    "    for i in range(99) : \n",
    "        world += len(units[j] + '' + 'hundredand' + '' + str(L[i]))\n",
    "        \n",
    "world += len('onethousand')\n",
    "print world"
   ]
  },
  {
   "cell_type": "markdown",
   "metadata": {},
   "source": [
    "[9번 문제] 프로젝트 오일러 문제 18\n",
    "\n",
    "다음과 같이 삼각형 모양으로 숫자를 배열했습니다.\n",
    "\n",
    "삼각형의 꼭대기부터 아래쪽으로 인접한 숫자를 찾아 내려가면서 합을 구하면, 위의 그림처럼 3 + 7 + 4 + 9 = 23 이 가장 큰 합을 갖는 경로가 됩니다.\n",
    "\n",
    "다음 삼각형에서 합이 최대가 되는 경로를 찾아서 그 합을 구하세요.\n",
    "\n",
    "참고: 여기서는 경로가 16384개밖에 안되기 때문에, 모든 경로의 합을 일일이 계산해서 답을 구하는 것이 가능합니다.\n",
    "하지만 67번 문제에는 100층짜리 삼각형 배열이 나옵니다. 그런 경우에는 좀 더 현명한 풀이 방법을 찾아야겠지요."
   ]
  },
  {
   "cell_type": "code",
   "execution_count": 28,
   "metadata": {
    "collapsed": false
   },
   "outputs": [
    {
     "name": "stdout",
     "output_type": "stream",
     "text": [
      "[[75], [95, 64], [17, 47, 82], [18, 35, 87, 10], [20, 4, 82, 47, 65], [19, 1, 23, 75, 3, 34], [88, 2, 77, 73, 7, 63, 67], [99, 65, 4, 28, 6, 16, 70, 92], [41, 41, 26, 56, 83, 40, 80, 70, 33], [41, 48, 72, 33, 47, 32, 37, 16, 94, 29], [53, 71, 44, 65, 25, 43, 91, 52, 97, 51, 14], [70, 11, 33, 28, 77, 73, 17, 78, 39, 68, 17, 57], [91, 71, 52, 38, 17, 14, 91, 43, 58, 50, 27, 29, 48], [63, 66, 4, 68, 89, 53, 67, 30, 73, 16, 69, 87, 40, 31], [4, 62, 98, 27, 23, 9, 70, 98, 73, 93, 38, 53, 60, 4, 23]]\n",
      "\n",
      "합이 최대가 되는 경로의 합은\n",
      "1074\n"
     ]
    }
   ],
   "source": [
    "s = '''75\n",
    "95 64\n",
    "17 47 82\n",
    "18 35 87 10\n",
    "20 04 82 47 65\n",
    "19 01 23 75 03 34\n",
    "88 02 77 73 07 63 67\n",
    "99 65 04 28 06 16 70 92\n",
    "41 41 26 56 83 40 80 70 33\n",
    "41 48 72 33 47 32 37 16 94 29\n",
    "53 71 44 65 25 43 91 52 97 51 14\n",
    "70 11 33 28 77 73 17 78 39 68 17 57\n",
    "91 71 52 38 17 14 91 43 58 50 27 29 48\n",
    "63 66 04 68 89 53 67 30 73 16 69 87 40 31\n",
    "04 62 98 27 23 09 70 98 73 93 38 53 60 04 23'''\n",
    "\n",
    "l = []\n",
    "for line in s.split('\\n'): #줄 바꿈을 기준으로 한 라인별로 끊어서 \n",
    "    l.append([int(num) for num in line.split()])  #정수형으로 바꾸어 공리스트 l에 하나씩 추가한다.\n",
    "print l\n",
    "\n",
    "for i in range(13, -1, -1) : # 아래에서 두번째 줄부터 시작한다.\n",
    "    for j in range(i + 1) :\n",
    "        l[i][j] += max(l[i+1][j], l[i+1][j+1]) #합이 최대가 되는 경로\n",
    "\n",
    "print\n",
    "print \"합이 최대가 되는 경로의 합은\"\n",
    "print l[0][0] "
   ]
  },
  {
   "cell_type": "markdown",
   "metadata": {},
   "source": [
    "=> 혼자 풀기 어려워서 선배님의 도움을 받아 아래에서 두번째줄부터 시작하는 아이디어를 얻었습니다."
   ]
  },
  {
   "cell_type": "markdown",
   "metadata": {},
   "source": [
    "[10번 문제]이전 Assignment 3 (Assignment 4가 아님)의 마지막 문제는 웹 URL로 지정된 웹페이지를 문자열로 가져와 모든 HTML 태그 및 CSS와 Javascript를 제외한 순수 텍스트를 얻어내고 그 안에 존재하는 단어를 추출하여 각 단어들에 대해 출현빈도를 사전형태({'world': 2, 'hello': 1, 'python': 1})로 저장하여 출력하는 것이었다. 이번에는 Assignment 3을 다시 확장/변형하여 다음과 같은 조건을 만족하도록 구현하시오.\n",
    "- 1) 새로운 클래스 WebWordsFrequency를 정의하시오.\n",
    "    - 이전 Assignment 4에서 고려했던 pickle 모듈등은 전혀 고려하지 마시오.\n",
    "       - 즉, 하드디스크에 저장하고 다시 로드하는 기능은 본 숙제에는 배제하시오.\n",
    "    - Assignment 4에서 고려했던 영어 불용어 처리는 적용하시오.\n",
    "    - Assignment 4에서 처럼 국문 사이트가 아닌 영어 사이트만을 고려하여 아래 사항을 코딩하시오.\n",
    "  \n",
    "- 2) 생성자에 URL을 0개에서 임의의 개수를 넣을 수 있도록 생성자 인수를 가변인수로 정의하여 각각의 URL을 리스트 자료형에 유지하시오.\n",
    "- 3) addUrl() 메소드를 구현하여 인스턴스를 생성한 이후에도 URL을 추가할 수 있도록 한다.\n",
    "    - 반드시 1개의 URL을 추가하도록 구현 (즉, 동시에 여러 개의 URL을 추가하는 것은 배제)\n",
    "- 4) removeUrl() 메소드를 구현하여 URL을 삭제할 수 있도록 한다.\n",
    "    - 반드시 1개의 URL을 삭제하도록 구현 (즉, 동시에 여러 개의 URL을 삭제하는 것은 배제)\n",
    "- 5) listUrls() 메소드를 구현하여 현재 등록된 모든 URL을 출력하는 기능을 추가\n",
    "- 6) getWordsFrequency() 메소드를 구현하여 각 URL의 웹페이지들을 종합적으로 분석한 단어 출현 빈도 사전을 반환하시오.\n",
    "    - 만약 등록된 URL이 없다면 공백 사전을 반환\n",
    "- 7) getMaxFreqencyWords() 메소드를 구현하여 각 URL의 웹페이지들을 종합적으로 분석한 단어 출현 빈도 사전에서 가장 많이 출현한 단어 리스트를 반환하시오.\n",
    "    - 최다 출현 단어의 빈도수가 동일한 경우 모두 출력해주어야 함\n",
    "    - 만약 등록된 URL이 없다면 None을 반환\n",
    "- 8) 임의의 단어 1개를 파라미터로 받는 searchUrlByWord() 메소드를 구현하여 유사도가 높은 웹 사이트를 출력하시오.\n",
    "    - 파라미터로 받은 단어와 유사도가 동일한 URL이 여러 개이면 해당 URL을 모두 출력하시오.\n",
    "        "
   ]
  },
  {
   "cell_type": "markdown",
   "metadata": {
    "collapsed": true
   },
   "source": [
    "[11번 문제] 위 10번 문제에서 정의한 WebWordsFrequency 클래스를 상속하여 OrderedWebWordsFrequency 클래스를 정의하고 슈퍼클래스에 정의된 getWordsFrequency() 메소드를 오버라이드 하여 단어 출현 빈도를 내림 차순으로 정렬하여 리스트로 출력하시오.\n",
    "- 리스트 내의 각 원소는 단어와 빈도를 쌍으로 지니는 튜플이다.\n",
    "- getWordFrequence() 메소드에 reverse 라는 인자를 만들고 true 또는 false를 인자로 받을 수 있도록 한다.\n",
    "    - reverse 인자의 디폴트 값은 false 이며, 기본적으로 내림차순으로 정렬한다.\n",
    "    - reverse 인자에 true를 넣으면 오름차순으로 정렬한다."
   ]
  },
  {
   "cell_type": "markdown",
   "metadata": {},
   "source": [
    "[12번 문제] 다음과 같은 코딩이 가능하도록 OrderedWebWordsFrequency 안에 반복자와 관련된 메소드를 추가하시오."
   ]
  },
  {
   "cell_type": "markdown",
   "metadata": {},
   "source": [
    "# 고찰"
   ]
  },
  {
   "cell_type": "markdown",
   "metadata": {},
   "source": [
    "assignment3 번 과제에서 url부분을 처리하지 못했기 때문에 이번 과제에서도 url을 해결하지 못했습니다. 마지막 과제를 잘 해결하지 못하여 마음은 불편하지만 마무리를 했다는 생각에 조금 후련했습니다. 내일 수업에서 교수님께서 해주시는 설명을 잘들어서 url을 확실하게 이해하고 싶습니다. 처음에 시작했을 때는 파이썬에 대해 하나도 알지 못했기 때문에 두려움이 많았지만 파이썬 언어가 다른 언어보다 훨씬 더 편리하다는 것을 알게 되었습니다. 한 학기 동안 정말 고생 많으셨습니다. 감사합니다"
   ]
  },
  {
   "cell_type": "code",
   "execution_count": null,
   "metadata": {
    "collapsed": true
   },
   "outputs": [],
   "source": []
  }
 ],
 "metadata": {
  "anaconda-cloud": {},
  "kernelspec": {
   "display_name": "Python [default]",
   "language": "python",
   "name": "python2"
  },
  "language_info": {
   "codemirror_mode": {
    "name": "ipython",
    "version": 2
   },
   "file_extension": ".py",
   "mimetype": "text/x-python",
   "name": "python",
   "nbconvert_exporter": "python",
   "pygments_lexer": "ipython2",
   "version": "2.7.12"
  }
 },
 "nbformat": 4,
 "nbformat_minor": 1
}
